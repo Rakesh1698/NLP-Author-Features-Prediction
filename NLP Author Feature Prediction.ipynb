{
 "cells": [
  {
   "cell_type": "raw",
   "id": "77c21a45",
   "metadata": {},
   "source": [
    "# About the data set:\n",
    "# “A blog (a truncation of the expression \"weblog\") is a discussion or informational website \n",
    "# published on the World Wide Web consisting of discrete, often informal diary-style text entries (\"posts\").\n",
    "# Posts are typically displayed in reverse chronological order, so that the most recent post appears first, \n",
    "# at the top of the web page. Until 2009, blogs were usually the work of a single individual,\n",
    "# occasionally of a small group, and often covered a single subject or topic.” -- Wikipedia article “Blog”\n",
    "\n",
    "# This dataset contains text from blogs written on or before 2004, with each blog being the work of a single user"
   ]
  },
  {
   "cell_type": "markdown",
   "id": "d0ae598d",
   "metadata": {},
   "source": [
    "Importing necessary libraries"
   ]
  },
  {
   "cell_type": "code",
   "execution_count": 73,
   "id": "c1c52a8c",
   "metadata": {},
   "outputs": [],
   "source": [
    "import numpy as np\n",
    "import pandas as pd\n",
    "import matplotlib.pyplot as plt\n",
    "import seaborn as sns\n",
    "from warnings import filterwarnings\n",
    "filterwarnings('ignore')"
   ]
  },
  {
   "cell_type": "code",
   "execution_count": 74,
   "id": "09345a38",
   "metadata": {},
   "outputs": [
    {
     "data": {
      "text/html": [
       "<div>\n",
       "<style scoped>\n",
       "    .dataframe tbody tr th:only-of-type {\n",
       "        vertical-align: middle;\n",
       "    }\n",
       "\n",
       "    .dataframe tbody tr th {\n",
       "        vertical-align: top;\n",
       "    }\n",
       "\n",
       "    .dataframe thead th {\n",
       "        text-align: right;\n",
       "    }\n",
       "</style>\n",
       "<table border=\"1\" class=\"dataframe\">\n",
       "  <thead>\n",
       "    <tr style=\"text-align: right;\">\n",
       "      <th></th>\n",
       "      <th>id</th>\n",
       "      <th>gender</th>\n",
       "      <th>age</th>\n",
       "      <th>topic</th>\n",
       "      <th>sign</th>\n",
       "      <th>date</th>\n",
       "      <th>text</th>\n",
       "    </tr>\n",
       "  </thead>\n",
       "  <tbody>\n",
       "    <tr>\n",
       "      <th>0</th>\n",
       "      <td>2059027</td>\n",
       "      <td>male</td>\n",
       "      <td>15</td>\n",
       "      <td>Student</td>\n",
       "      <td>Leo</td>\n",
       "      <td>14,May,2004</td>\n",
       "      <td>Info has been found (+/- 100 pages,...</td>\n",
       "    </tr>\n",
       "    <tr>\n",
       "      <th>1</th>\n",
       "      <td>2059027</td>\n",
       "      <td>male</td>\n",
       "      <td>15</td>\n",
       "      <td>Student</td>\n",
       "      <td>Leo</td>\n",
       "      <td>13,May,2004</td>\n",
       "      <td>These are the team members:   Drewe...</td>\n",
       "    </tr>\n",
       "    <tr>\n",
       "      <th>2</th>\n",
       "      <td>2059027</td>\n",
       "      <td>male</td>\n",
       "      <td>15</td>\n",
       "      <td>Student</td>\n",
       "      <td>Leo</td>\n",
       "      <td>12,May,2004</td>\n",
       "      <td>In het kader van kernfusie op aarde...</td>\n",
       "    </tr>\n",
       "    <tr>\n",
       "      <th>3</th>\n",
       "      <td>2059027</td>\n",
       "      <td>male</td>\n",
       "      <td>15</td>\n",
       "      <td>Student</td>\n",
       "      <td>Leo</td>\n",
       "      <td>12,May,2004</td>\n",
       "      <td>testing!!!  testing!!!</td>\n",
       "    </tr>\n",
       "    <tr>\n",
       "      <th>4</th>\n",
       "      <td>3581210</td>\n",
       "      <td>male</td>\n",
       "      <td>33</td>\n",
       "      <td>InvestmentBanking</td>\n",
       "      <td>Aquarius</td>\n",
       "      <td>11,June,2004</td>\n",
       "      <td>Thanks to Yahoo!'s Toolbar I can ...</td>\n",
       "    </tr>\n",
       "  </tbody>\n",
       "</table>\n",
       "</div>"
      ],
      "text/plain": [
       "        id gender  age              topic      sign          date  \\\n",
       "0  2059027   male   15            Student       Leo   14,May,2004   \n",
       "1  2059027   male   15            Student       Leo   13,May,2004   \n",
       "2  2059027   male   15            Student       Leo   12,May,2004   \n",
       "3  2059027   male   15            Student       Leo   12,May,2004   \n",
       "4  3581210   male   33  InvestmentBanking  Aquarius  11,June,2004   \n",
       "\n",
       "                                                text  \n",
       "0             Info has been found (+/- 100 pages,...  \n",
       "1             These are the team members:   Drewe...  \n",
       "2             In het kader van kernfusie op aarde...  \n",
       "3                   testing!!!  testing!!!            \n",
       "4               Thanks to Yahoo!'s Toolbar I can ...  "
      ]
     },
     "execution_count": 74,
     "metadata": {},
     "output_type": "execute_result"
    }
   ],
   "source": [
    "df = pd.read_csv('blogtext.csv')\n",
    "df.head()"
   ]
  },
  {
   "cell_type": "code",
   "execution_count": 75,
   "id": "609c5f6a",
   "metadata": {},
   "outputs": [
    {
     "name": "stdout",
     "output_type": "stream",
     "text": [
      "Number of rows is: 681284\n",
      "Number of colums is: 7\n"
     ]
    }
   ],
   "source": [
    "print('Number of rows is:',df.shape[0])\n",
    "print('Number of colums is:',df.shape[1])"
   ]
  },
  {
   "cell_type": "markdown",
   "id": "badec687",
   "metadata": {},
   "source": [
    "Since there are huge number of rows, we are selecting a sample of 5000 rows since the computational power of our laptops are very less"
   ]
  },
  {
   "cell_type": "code",
   "execution_count": 76,
   "id": "80a01270",
   "metadata": {},
   "outputs": [
    {
     "name": "stdout",
     "output_type": "stream",
     "text": [
      "Number of rows is: 5000\n",
      "Number of colums is: 7\n"
     ]
    }
   ],
   "source": [
    "df = df.head(5000)\n",
    "print('Number of rows is:',df.shape[0])\n",
    "print('Number of colums is:',df.shape[1])"
   ]
  },
  {
   "cell_type": "markdown",
   "id": "f6f81321",
   "metadata": {},
   "source": [
    "# Data Preprocessing "
   ]
  },
  {
   "cell_type": "markdown",
   "id": "bfb6257f",
   "metadata": {},
   "source": [
    "Importing necessary packages for data preprocessing"
   ]
  },
  {
   "cell_type": "code",
   "execution_count": 77,
   "id": "a2bb33ab",
   "metadata": {},
   "outputs": [],
   "source": [
    "import re\n",
    "from nltk.corpus import stopwords"
   ]
  },
  {
   "cell_type": "code",
   "execution_count": 78,
   "id": "ad9e62d9",
   "metadata": {},
   "outputs": [],
   "source": [
    "df['text'] = df['text'].apply (lambda x : re.sub(\"[^A-Za-z]+\",\" \",x))\n",
    "df['text'] = df['text'].apply (lambda x : x.strip())\n",
    "stopwords = set(stopwords.words(\"english\"))\n",
    "df[\"text\"] = df[\"text\"].apply(lambda x : \" \".join([word for word in x.split() if word not in stopwords]))"
   ]
  },
  {
   "cell_type": "code",
   "execution_count": 79,
   "id": "a9adaf10",
   "metadata": {},
   "outputs": [
    {
     "data": {
      "text/plain": [
       "'I surf English news sites lot looking tidbits Korea foreigners like view Hermit Kingdom also way keep fast moving place Sometimes though one needs check veracity figures put papers especially local ones Here two examples English version Korea Times JoongAng Ilbo Daily The first pretty straightforward urlLink Korea Times said people arrested forging Korean passports urlLink JoongAng Ilbo says accused Huh Another one urlLink JoongAng Ilbo said S P positive Korean banks good thing urlLink Korea Times said S P tad worried bad loans banks extended small medium sized firms I idea simple facts seem presented differently simply translation'"
      ]
     },
     "execution_count": 79,
     "metadata": {},
     "output_type": "execute_result"
    }
   ],
   "source": [
    "# Viewing a sample to check if the data is cleaned and if we have removed any special characters in the dataset\n",
    "df.text[9]"
   ]
  },
  {
   "cell_type": "code",
   "execution_count": 80,
   "id": "9d519189",
   "metadata": {},
   "outputs": [],
   "source": [
    "df[\"label\"] = df.apply(lambda row : [row[\"gender\"],str(row[\"age\"]),row[\"topic\"],row[\"sign\"]],axis =1)"
   ]
  },
  {
   "cell_type": "code",
   "execution_count": 81,
   "id": "b9187b73",
   "metadata": {},
   "outputs": [],
   "source": [
    "df = df[[\"text\",\"label\"]]"
   ]
  },
  {
   "cell_type": "code",
   "execution_count": 82,
   "id": "542eb415",
   "metadata": {},
   "outputs": [
    {
     "data": {
      "text/html": [
       "<div>\n",
       "<style scoped>\n",
       "    .dataframe tbody tr th:only-of-type {\n",
       "        vertical-align: middle;\n",
       "    }\n",
       "\n",
       "    .dataframe tbody tr th {\n",
       "        vertical-align: top;\n",
       "    }\n",
       "\n",
       "    .dataframe thead th {\n",
       "        text-align: right;\n",
       "    }\n",
       "</style>\n",
       "<table border=\"1\" class=\"dataframe\">\n",
       "  <thead>\n",
       "    <tr style=\"text-align: right;\">\n",
       "      <th></th>\n",
       "      <th>text</th>\n",
       "      <th>label</th>\n",
       "    </tr>\n",
       "  </thead>\n",
       "  <tbody>\n",
       "    <tr>\n",
       "      <th>0</th>\n",
       "      <td>Info found pages MB pdf files Now wait untill ...</td>\n",
       "      <td>[male, 15, Student, Leo]</td>\n",
       "    </tr>\n",
       "    <tr>\n",
       "      <th>1</th>\n",
       "      <td>These team members Drewes van der Laag urlLink...</td>\n",
       "      <td>[male, 15, Student, Leo]</td>\n",
       "    </tr>\n",
       "    <tr>\n",
       "      <th>2</th>\n",
       "      <td>In het kader van kernfusie op aarde MAAK JE EI...</td>\n",
       "      <td>[male, 15, Student, Leo]</td>\n",
       "    </tr>\n",
       "    <tr>\n",
       "      <th>3</th>\n",
       "      <td>testing testing</td>\n",
       "      <td>[male, 15, Student, Leo]</td>\n",
       "    </tr>\n",
       "    <tr>\n",
       "      <th>4</th>\n",
       "      <td>Thanks Yahoo Toolbar I capture URLs popups mea...</td>\n",
       "      <td>[male, 33, InvestmentBanking, Aquarius]</td>\n",
       "    </tr>\n",
       "  </tbody>\n",
       "</table>\n",
       "</div>"
      ],
      "text/plain": [
       "                                                text  \\\n",
       "0  Info found pages MB pdf files Now wait untill ...   \n",
       "1  These team members Drewes van der Laag urlLink...   \n",
       "2  In het kader van kernfusie op aarde MAAK JE EI...   \n",
       "3                                    testing testing   \n",
       "4  Thanks Yahoo Toolbar I capture URLs popups mea...   \n",
       "\n",
       "                                     label  \n",
       "0                 [male, 15, Student, Leo]  \n",
       "1                 [male, 15, Student, Leo]  \n",
       "2                 [male, 15, Student, Leo]  \n",
       "3                 [male, 15, Student, Leo]  \n",
       "4  [male, 33, InvestmentBanking, Aquarius]  "
      ]
     },
     "execution_count": 82,
     "metadata": {},
     "output_type": "execute_result"
    }
   ],
   "source": [
    "df.head()"
   ]
  },
  {
   "cell_type": "markdown",
   "id": "4061d202",
   "metadata": {},
   "source": [
    "# Spliting the dataset into Train and Test "
   ]
  },
  {
   "cell_type": "code",
   "execution_count": 83,
   "id": "451ccb4f",
   "metadata": {},
   "outputs": [],
   "source": [
    "from sklearn.model_selection import train_test_split"
   ]
  },
  {
   "cell_type": "code",
   "execution_count": 84,
   "id": "2538e961",
   "metadata": {},
   "outputs": [],
   "source": [
    "x = df[\"text\"]\n",
    "y = df[\"label\"]"
   ]
  },
  {
   "cell_type": "code",
   "execution_count": 85,
   "id": "3372f0cf",
   "metadata": {},
   "outputs": [
    {
     "name": "stdout",
     "output_type": "stream",
     "text": [
      "(3500,)\n",
      "(1500,)\n",
      "(3500,)\n",
      "(1500,)\n"
     ]
    }
   ],
   "source": [
    "xtrain,xtest,ytrain,ytest = train_test_split(x.values,y.values, test_size = .30, random_state=42)\n",
    "print(xtrain.shape)\n",
    "print(xtest.shape)\n",
    "print(ytrain.shape)\n",
    "print(ytest.shape)"
   ]
  },
  {
   "cell_type": "markdown",
   "id": "4775b714",
   "metadata": {},
   "source": [
    "After the train test split we are converting the data into vectors, Since machine understands only 0's and 1's we are converting the textual data into vectors."
   ]
  },
  {
   "cell_type": "code",
   "execution_count": 86,
   "id": "d8161785",
   "metadata": {},
   "outputs": [],
   "source": [
    "from sklearn.feature_extraction.text import TfidfVectorizer,CountVectorizer"
   ]
  },
  {
   "cell_type": "code",
   "execution_count": 87,
   "id": "70245f96",
   "metadata": {},
   "outputs": [],
   "source": [
    "tfid = CountVectorizer(binary=True,ngram_range=(1,2))\n",
    "xtrain_tf = tfid.fit_transform(xtrain)"
   ]
  },
  {
   "cell_type": "code",
   "execution_count": 88,
   "id": "94231955",
   "metadata": {},
   "outputs": [
    {
     "data": {
      "text/plain": [
       "array([0, 0, 0, ..., 0, 0, 0], dtype=int64)"
      ]
     },
     "execution_count": 88,
     "metadata": {},
     "output_type": "execute_result"
    }
   ],
   "source": [
    "xtrain_tf.toarray()[1]"
   ]
  },
  {
   "cell_type": "code",
   "execution_count": 89,
   "id": "163fd103",
   "metadata": {},
   "outputs": [
    {
     "data": {
      "text/plain": [
       "['aa',\n",
       " 'aa amazing',\n",
       " 'aa compared',\n",
       " 'aaa',\n",
       " 'aaa come',\n",
       " 'aaa someone',\n",
       " 'aaa tow',\n",
       " 'aaaaaaah',\n",
       " 'aaaaaaah fade',\n",
       " 'aaaaack',\n",
       " 'aaaah',\n",
       " 'aaaah wisdom',\n",
       " 'aaaahh',\n",
       " 'aaaarrrgghhhh',\n",
       " 'aaaarrrgghhhh slightly']"
      ]
     },
     "execution_count": 89,
     "metadata": {},
     "output_type": "execute_result"
    }
   ],
   "source": [
    "tfid.get_feature_names()[:15]"
   ]
  },
  {
   "cell_type": "code",
   "execution_count": 90,
   "id": "12386cb2",
   "metadata": {},
   "outputs": [],
   "source": [
    "xtest_tf = tfid.transform(xtest)"
   ]
  },
  {
   "cell_type": "code",
   "execution_count": 91,
   "id": "8205de64",
   "metadata": {},
   "outputs": [],
   "source": [
    "label_count = {}\n",
    "for j in y:\n",
    "    for i in j:\n",
    "        if i in label_count:\n",
    "            label_count[i] += 1\n",
    "        else:\n",
    "            label_count[i] = 1 "
   ]
  },
  {
   "cell_type": "code",
   "execution_count": 92,
   "id": "af8a3554",
   "metadata": {},
   "outputs": [
    {
     "data": {
      "text/plain": [
       "{'male': 3294,\n",
       " '15': 339,\n",
       " 'Student': 569,\n",
       " 'Leo': 190,\n",
       " '33': 101,\n",
       " 'InvestmentBanking': 70,\n",
       " 'Aquarius': 329,\n",
       " 'female': 1706,\n",
       " '14': 170,\n",
       " 'indUnk': 1381,\n",
       " 'Aries': 2483,\n",
       " '25': 268,\n",
       " 'Capricorn': 84,\n",
       " '17': 331,\n",
       " 'Gemini': 86,\n",
       " '23': 137,\n",
       " 'Non-Profit': 47,\n",
       " 'Cancer': 94,\n",
       " 'Banking': 16,\n",
       " '37': 19,\n",
       " 'Sagittarius': 704,\n",
       " '26': 96,\n",
       " '24': 353,\n",
       " 'Scorpio': 408,\n",
       " '27': 86,\n",
       " 'Education': 118,\n",
       " '45': 14,\n",
       " 'Engineering': 119,\n",
       " 'Libra': 414,\n",
       " 'Science': 33,\n",
       " '34': 540,\n",
       " '41': 14,\n",
       " 'Communications-Media': 61,\n",
       " 'BusinessServices': 87,\n",
       " 'Sports-Recreation': 75,\n",
       " 'Virgo': 41,\n",
       " 'Taurus': 100,\n",
       " 'Arts': 31,\n",
       " 'Pisces': 67,\n",
       " '44': 3,\n",
       " '16': 67,\n",
       " 'Internet': 20,\n",
       " 'Museums-Libraries': 2,\n",
       " 'Accounting': 2,\n",
       " '39': 79,\n",
       " '35': 2307,\n",
       " 'Technology': 2332,\n",
       " '36': 60,\n",
       " 'Law': 3,\n",
       " '46': 7,\n",
       " 'Consulting': 16,\n",
       " 'Automotive': 14,\n",
       " '42': 9,\n",
       " 'Religion': 4}"
      ]
     },
     "execution_count": 92,
     "metadata": {},
     "output_type": "execute_result"
    }
   ],
   "source": [
    "label_count"
   ]
  },
  {
   "cell_type": "markdown",
   "id": "4eea35f8",
   "metadata": {},
   "source": [
    "# Model Building"
   ]
  },
  {
   "cell_type": "code",
   "execution_count": 93,
   "id": "ecf896f4",
   "metadata": {},
   "outputs": [],
   "source": [
    "from sklearn.linear_model import LogisticRegression\n",
    "from sklearn.preprocessing import MultiLabelBinarizer"
   ]
  },
  {
   "cell_type": "code",
   "execution_count": 94,
   "id": "188aba56",
   "metadata": {},
   "outputs": [],
   "source": [
    "mlb = MultiLabelBinarizer(classes=sorted(label_count.keys()))\n",
    "y_train = mlb.fit_transform(ytrain)\n",
    "y_test = mlb.fit_transform(ytest)"
   ]
  },
  {
   "cell_type": "code",
   "execution_count": 95,
   "id": "4b086d43",
   "metadata": {},
   "outputs": [
    {
     "data": {
      "text/plain": [
       "array([[0, 0, 0, ..., 0, 0, 1],\n",
       "       [0, 0, 0, ..., 0, 0, 1],\n",
       "       [0, 0, 0, ..., 1, 1, 0],\n",
       "       ...,\n",
       "       [0, 0, 0, ..., 0, 0, 1],\n",
       "       [0, 0, 0, ..., 1, 0, 0],\n",
       "       [0, 0, 0, ..., 0, 0, 1]])"
      ]
     },
     "execution_count": 95,
     "metadata": {},
     "output_type": "execute_result"
    }
   ],
   "source": [
    "y_train"
   ]
  },
  {
   "cell_type": "code",
   "execution_count": 96,
   "id": "1b2ef00d",
   "metadata": {},
   "outputs": [],
   "source": [
    "from sklearn.multiclass import OneVsRestClassifier\n",
    "from sklearn.linear_model import LogisticRegression"
   ]
  },
  {
   "cell_type": "code",
   "execution_count": 97,
   "id": "98b14750",
   "metadata": {},
   "outputs": [],
   "source": [
    "lr = LogisticRegression(solver='lbfgs')\n",
    "ovs = OneVsRestClassifier(lr)"
   ]
  },
  {
   "cell_type": "code",
   "execution_count": 98,
   "id": "b75860f0",
   "metadata": {},
   "outputs": [
    {
     "data": {
      "text/plain": [
       "OneVsRestClassifier(estimator=LogisticRegression())"
      ]
     },
     "execution_count": 98,
     "metadata": {},
     "output_type": "execute_result"
    }
   ],
   "source": [
    "ovs.fit(xtrain_tf,y_train)"
   ]
  },
  {
   "cell_type": "code",
   "execution_count": 99,
   "id": "cfdf4728",
   "metadata": {},
   "outputs": [],
   "source": [
    "predicted_label = ovs.predict(xtest_tf)\n",
    "predicted_score = ovs.decision_function(xtest_tf)"
   ]
  },
  {
   "cell_type": "code",
   "execution_count": 100,
   "id": "c638d7d7",
   "metadata": {},
   "outputs": [],
   "source": [
    "inverse_pred = mlb.inverse_transform(predicted_label)\n",
    "inverse_ytest = mlb.inverse_transform(y_test)"
   ]
  },
  {
   "cell_type": "code",
   "execution_count": 101,
   "id": "f1843fe1",
   "metadata": {},
   "outputs": [
    {
     "name": "stdout",
     "output_type": "stream",
     "text": [
      "Title:\tbeautiful\n",
      "True labels:\t35,Aries,Technology,male\n",
      "Predicted labels:\t35,Aries,Technology,male\n",
      "\n",
      "\n",
      "Title:\tgood idea johnathan quite tasty\n",
      "True labels:\t35,Aries,Technology,male\n",
      "Predicted labels:\t35,Aries,Technology,male\n",
      "\n",
      "\n",
      "Title:\tI house right\n",
      "True labels:\t35,Aries,Technology,male\n",
      "Predicted labels:\t35,Aries,Technology,male\n",
      "\n",
      "\n",
      "Title:\tSorry Im person I If I could I wouldnt Too Bad Already I went Harry today Then went sledding quiet awhile We ran Tom Scott went sledding Then got cold hungry decided head back Then goofed ate dinner I realized I needed along time ago Why I way I Why I one stuck depressed time I odd one whole vegetarian scheme If I normal like every ska bunctious kid maybe I wouldnt problem Thats I A problem While im deep thought im going go listen Early November think stuff Nights long Hope never come\n",
      "True labels:\t15,Libra,Student,female\n",
      "Predicted labels:\tfemale\n",
      "\n",
      "\n",
      "Title:\tThere baby named Bo Jangles When born parents told blind Bo blind The doctors foreign believed blind really light colored eyes While growing tryed convince parents wasnt blind would never listen So started pretend blind The person believed kid named JohnReed Both fathers highly involved MOb organized crime While JOhn dad boss Bo dad right hand man So familys really good friends Like family One day JOhn making fun Bo blindness throwing apple Bo mob meeting BO blind caught Then john asked bo color hair Bo like brown freak John realized cool Bo became best friends They kinda stupid Yeah got like lost whole bunch So one day Bo Jangles JohnReed way gas station pick tacos They desided take short cut throw corn field And geuss got lost started going throw corn rows sudden spoted sign It read dont mess crotch goblins John Reed siad Caitlin Kyle girl school always talking things AlL sudden C GOB bounced BO Jangles head hiss Bo took C GOB took head took bite Taste like sorta weirdness I dont think u ate stupid said JohnRxxd I dont care Bo said All sudden nosie coming corn rows WHAT DID U DO TO MY C GOB It WAS CAITLIN Hey caitlin said John Hey john n Which one u ate c gob u realize last one left bO SIAD SOrry didnt realize caitlin runs bO beats Caitlin realizing didnt really matter ask midddle corn field John answers qwest tacos got really lost I join think could help saids caitlin They answer yes continue mission Day turned night began get tierd THey could barely see anything walked rightt man The man really tall Bo took keyring flashlight tapped back man turned around It BoB janitor WHat heck Mr bob What u corn field Very simple Mr reed I Jeepers Creepers I inside bob u know using body Really said Bo Since U found secert send u one person help u The kids huddle togther think person We want O wAIT ONLY NOW one person one friend meet girl playing line bingo ago told friends told would friend WILL SEND HER u Thanks siad All A SUDDEN girl appears jeepers creepers flys away It cant Danielle says john Aww one mintue bed next corn field You explaining THEY expalined danielle So geuss stuck u guys saids danielle I geuss bad They continued After got disscouraged begun believe lost ever But walking corn field caitlin tripped bar typed object water spicket took drink went sleep next day woke figured wtare magical tHey turned mult colored iT weird bUT effect wasnt perment thanx goodness They continued qwest found small shack could barely fit filled cotton candy There little boy inside big bug eyes also lazyeyes one eye cotton unexpected geust The boy said small voice yOU WILL FOREVER main house life All sudden The doors windows dissappeared nothing look puzzlement What going said bo I know I know eating great candy said danielle good idea sit eat candy The boy explains got lost one day found house stuck last years wow amazing guess ever yeah least arnt alone yeah parents going freaked It okay think I love cotton candy saids danielle yeah said next years ate cotton candy played qwuestions end go insane become addiccted bark\n",
      "True labels:\t15,Libra,Science,male\n",
      "Predicted labels:\t15,Libra,Student,female\n",
      "\n",
      "\n"
     ]
    }
   ],
   "source": [
    "for i in range(5):\n",
    "    print('Title:\\t{}\\nTrue labels:\\t{}\\nPredicted labels:\\t{}\\n\\n'.format(\n",
    "        xtest[i],\n",
    "        ','.join(inverse_ytest[i]),\n",
    "        ','.join(inverse_pred[i])\n",
    "    ))"
   ]
  },
  {
   "cell_type": "code",
   "execution_count": 102,
   "id": "1a159125",
   "metadata": {},
   "outputs": [],
   "source": [
    "from sklearn.metrics import accuracy_score\n",
    "from sklearn.metrics import f1_score\n",
    "from sklearn.metrics import average_precision_score\n",
    "from sklearn.metrics import recall_score\n",
    "\n",
    "def print_evaluation_scores(y_val, predicted):\n",
    "    print('Accuracy score: ', accuracy_score(y_val, predicted))\n",
    "    print('F1 score: ', f1_score(y_val, predicted, average='micro'))\n",
    "    print('Average precision score: ', average_precision_score(y_val, predicted, average='micro'))\n",
    "    print('Average recall score: ', recall_score(y_val, predicted, average='micro'))"
   ]
  },
  {
   "cell_type": "code",
   "execution_count": 103,
   "id": "54813b71",
   "metadata": {},
   "outputs": [
    {
     "name": "stdout",
     "output_type": "stream",
     "text": [
      "Bag-of-words\n",
      "Accuracy score:  0.5013333333333333\n",
      "F1 score:  0.7203310137295468\n",
      "Average precision score:  0.5543724857068261\n",
      "Average recall score:  0.6383333333333333\n"
     ]
    }
   ],
   "source": [
    "print('Bag-of-words')\n",
    "print_evaluation_scores(y_test, predicted_label)"
   ]
  },
  {
   "cell_type": "code",
   "execution_count": null,
   "id": "51709706",
   "metadata": {},
   "outputs": [],
   "source": []
  }
 ],
 "metadata": {
  "kernelspec": {
   "display_name": "Python 3 (ipykernel)",
   "language": "python",
   "name": "python3"
  },
  "language_info": {
   "codemirror_mode": {
    "name": "ipython",
    "version": 3
   },
   "file_extension": ".py",
   "mimetype": "text/x-python",
   "name": "python",
   "nbconvert_exporter": "python",
   "pygments_lexer": "ipython3",
   "version": "3.9.13"
  }
 },
 "nbformat": 4,
 "nbformat_minor": 5
}
